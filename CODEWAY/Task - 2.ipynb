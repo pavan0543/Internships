{
 "cells": [
  {
   "cell_type": "markdown",
   "id": "e8524351",
   "metadata": {},
   "source": [
    "$Task-2$\n",
    "\n",
    "  **Calculator**\n",
    "  \n",
    "Design a simple calculator with basic arithmetic operations. Prompt the\n",
    "user to input two numbers and an operation choice. Perform the\n",
    "calculation and display the result."
   ]
  },
  {
   "cell_type": "code",
   "execution_count": 1,
   "id": "d521a242",
   "metadata": {},
   "outputs": [
    {
     "name": "stdout",
     "output_type": "stream",
     "text": [
      "Enter first number: 20\n",
      "Enter second number: 2\n",
      "Enter operation (+, -, *, /): /\n",
      "Result: 10.0\n"
     ]
    }
   ],
   "source": [
    "def calculator():\n",
    "    \"\"\"Prompts the user for input, performs calculations, and displays results.\"\"\"\n",
    "\n",
    "    while True:\n",
    "        try:\n",
    "            num1 = float(input(\"Enter first number: \"))\n",
    "            num2 = float(input(\"Enter second number: \"))\n",
    "            operation = input(\"Enter operation (+, -, *, /): \")\n",
    "\n",
    "            if operation == \"+\":\n",
    "                result = num1 + num2\n",
    "            elif operation == \"-\":\n",
    "                result = num1 - num2\n",
    "            elif operation == \"*\":\n",
    "                result = num1 * num2\n",
    "            elif operation == \"/\":\n",
    "                if num2 == 0:\n",
    "                    raise ZeroDivisionError(\"Cannot divide by zero\")\n",
    "                \n",
    "                result = num1 / num2\n",
    "            else:\n",
    "                print(\"Invalid operation\")\n",
    "                continue\n",
    "\n",
    "            print(f\"Result: {result}\")\n",
    "            break\n",
    "\n",
    "        except ValueError:\n",
    "            print(\"Invalid input. Please enter numbers only.\")\n",
    "        except ZeroDivisionError as e:\n",
    "            print(e)\n",
    "\n",
    "        choice = input(\"Do you want to perform another calculation? (y/n): \")\n",
    "        if choice.lower() != \"y\":\n",
    "            break\n",
    "\n",
    "calculator()\n"
   ]
  },
  {
   "cell_type": "code",
   "execution_count": null,
   "id": "1cb9acf2",
   "metadata": {},
   "outputs": [],
   "source": []
  }
 ],
 "metadata": {
  "kernelspec": {
   "display_name": "Python 3 (ipykernel)",
   "language": "python",
   "name": "python3"
  },
  "language_info": {
   "codemirror_mode": {
    "name": "ipython",
    "version": 3
   },
   "file_extension": ".py",
   "mimetype": "text/x-python",
   "name": "python",
   "nbconvert_exporter": "python",
   "pygments_lexer": "ipython3",
   "version": "3.11.5"
  }
 },
 "nbformat": 4,
 "nbformat_minor": 5
}
