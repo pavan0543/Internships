{
 "cells": [
  {
   "cell_type": "markdown",
   "id": "76f10644",
   "metadata": {},
   "source": [
    "$Task-3$\n",
    "\n",
    "  **Password Generator**\n",
    "  \n",
    "A password generator is a useful tool that generates strong and random passwords for\n",
    "users. This project aims to create a password generator application using Python,\n",
    "allowing users to specify the length and complexity of the password."
   ]
  },
  {
   "cell_type": "code",
   "execution_count": 1,
   "id": "da59cf1d",
   "metadata": {},
   "outputs": [
    {
     "name": "stdout",
     "output_type": "stream",
     "text": [
      "Enter the Length of your password : 6\n",
      "Password must contains atleast 8 characters\n",
      "Enter the Length of your password : 10\n",
      "Your Generated password is : HQ16;T'~c8\n",
      "Do you want to generate another password? (y/n):y\n",
      "Enter the Length of your password : 12\n",
      "Your Generated password is : Nx4p))>[<kcm\n",
      "Do you want to generate another password? (y/n):n\n"
     ]
    }
   ],
   "source": [
    "# Password Generator\n",
    "\n",
    "import random\n",
    "import string\n",
    "\n",
    "def generate_password(password_length):\n",
    "    characters = string.ascii_letters + string.digits + string.punctuation\n",
    "    password = \"\".join(random.choice(characters) for i in range(password_length))\n",
    "    return password\n",
    "def main():\n",
    "    while True:\n",
    "        try:\n",
    "            password_length = int(input(\"Enter the Length of your password : \"))\n",
    "            if password_length < 8:\n",
    "                print(\"Password must contains atleast 8 characters\")\n",
    "                continue\n",
    "            password = generate_password(password_length)\n",
    "            print(f\"Your Generated password is : {password}\")\n",
    "        except ValueError:\n",
    "            print(\"Invalid input . Please enter integer values only\")\n",
    "            break\n",
    "        choice = input(\"Do you want to generate another password? (y/n):\")\n",
    "        if choice.lower() != \"y\":\n",
    "            break\n",
    "main()"
   ]
  },
  {
   "cell_type": "code",
   "execution_count": null,
   "id": "93ff7b51",
   "metadata": {},
   "outputs": [],
   "source": []
  }
 ],
 "metadata": {
  "kernelspec": {
   "display_name": "Python 3 (ipykernel)",
   "language": "python",
   "name": "python3"
  },
  "language_info": {
   "codemirror_mode": {
    "name": "ipython",
    "version": 3
   },
   "file_extension": ".py",
   "mimetype": "text/x-python",
   "name": "python",
   "nbconvert_exporter": "python",
   "pygments_lexer": "ipython3",
   "version": "3.11.5"
  }
 },
 "nbformat": 4,
 "nbformat_minor": 5
}
